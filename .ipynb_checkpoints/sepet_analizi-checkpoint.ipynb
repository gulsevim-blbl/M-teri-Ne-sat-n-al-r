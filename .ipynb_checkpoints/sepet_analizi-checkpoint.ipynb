{
 "cells": [
  {
   "cell_type": "markdown",
   "id": "a6d678d8",
   "metadata": {},
   "source": [
    "### Birliktelik Kuralları \n",
    "\n",
    "Birliktelik kuralı, geçmiş verilerin analiz edilerek bu veriler içindeki birliktelik davranışlarının tespiti ile geleceğe yönelik çalışmalar yapılmasını destekleyen bir yaklaşımdır. \n",
    "Birliktelik kurallarının kullanıldığı en tipik örnek Market Sepeti Analizi’dir (Pazar Sepeti Analizi)."
   ]
  },
  {
   "cell_type": "markdown",
   "id": "6c0a28f8",
   "metadata": {},
   "source": [
    "### Market Sepet Analizi \n",
    "Bir müşteri süt satın alıyorsa, aynı alışverişte sütün yanında ekmek alma olasılığı nedir? Bu tip bir bilgi ışığında rafları düzenleyen market yöneticileri ürünlerindeki satış oranını arttırabilirler. \n",
    "Örneğin bir marketin müşterilerinin süt ile birlikte ekmek satın alma oranı yüksekse, market yöneticileri süt ile ekmek raflarını yan yana koyarak ekmek satışlarını arttırabilirler. \n",
    "Örneğin; bir A ürününü satın alan müşteriler aynı zamanda B ürününü da satın alıyorlarsa, bu durum Birliktelik Kuralı ile gösterilir."
   ]
  },
  {
   "cell_type": "markdown",
   "id": "251f38e6",
   "metadata": {},
   "source": [
    "### Apriori Algoritması \n",
    "Apriori algoritması, Agrawal ve Srikant tarafından 1994 yılında geliştirilmiştir.\n",
    "Veri Madenciliğinde, birliktelik kuralı çıkarım algoritmaları içerisinde en fazla bilinen ve kullanılan algoritmadır. "
   ]
  },
  {
   "cell_type": "code",
   "execution_count": 26,
   "id": "f58ef603",
   "metadata": {},
   "outputs": [],
   "source": [
    "import pandas as pd\n",
    "import numpy as np\n",
    "from IPython.display import Image\n",
    "import matplotlib.pyplot as plt"
   ]
  },
  {
   "cell_type": "code",
   "execution_count": 27,
   "id": "a7cf79fa",
   "metadata": {},
   "outputs": [],
   "source": [
    "hamveri = pd.read_csv(\"retail_dataset.csv\",sep=\",\")"
   ]
  },
  {
   "cell_type": "code",
   "execution_count": 28,
   "id": "b33d55bd",
   "metadata": {},
   "outputs": [
    {
     "data": {
      "text/plain": [
       "(315, 7)"
      ]
     },
     "execution_count": 28,
     "metadata": {},
     "output_type": "execute_result"
    }
   ],
   "source": [
    "hamveri.shape"
   ]
  },
  {
   "cell_type": "code",
   "execution_count": 29,
   "id": "9de142ef",
   "metadata": {},
   "outputs": [
    {
     "data": {
      "text/html": [
       "<div>\n",
       "<style scoped>\n",
       "    .dataframe tbody tr th:only-of-type {\n",
       "        vertical-align: middle;\n",
       "    }\n",
       "\n",
       "    .dataframe tbody tr th {\n",
       "        vertical-align: top;\n",
       "    }\n",
       "\n",
       "    .dataframe thead th {\n",
       "        text-align: right;\n",
       "    }\n",
       "</style>\n",
       "<table border=\"1\" class=\"dataframe\">\n",
       "  <thead>\n",
       "    <tr style=\"text-align: right;\">\n",
       "      <th></th>\n",
       "      <th>0</th>\n",
       "      <th>1</th>\n",
       "      <th>2</th>\n",
       "      <th>3</th>\n",
       "      <th>4</th>\n",
       "      <th>5</th>\n",
       "      <th>6</th>\n",
       "    </tr>\n",
       "  </thead>\n",
       "  <tbody>\n",
       "    <tr>\n",
       "      <th>0</th>\n",
       "      <td>Ekmek</td>\n",
       "      <td>Kola</td>\n",
       "      <td>Yumurta</td>\n",
       "      <td>Kiyma</td>\n",
       "      <td>Peynir</td>\n",
       "      <td>Kalem</td>\n",
       "      <td>Bebek Bezi</td>\n",
       "    </tr>\n",
       "    <tr>\n",
       "      <th>1</th>\n",
       "      <td>Ekmek</td>\n",
       "      <td>Peynir</td>\n",
       "      <td>Kiyma</td>\n",
       "      <td>Bebek Bezi</td>\n",
       "      <td>Kola</td>\n",
       "      <td>Sut</td>\n",
       "      <td>Kalem</td>\n",
       "    </tr>\n",
       "    <tr>\n",
       "      <th>2</th>\n",
       "      <td>Peynir</td>\n",
       "      <td>Kiyma</td>\n",
       "      <td>Yumurta</td>\n",
       "      <td>Sut</td>\n",
       "      <td>Kola</td>\n",
       "      <td>NaN</td>\n",
       "      <td>NaN</td>\n",
       "    </tr>\n",
       "    <tr>\n",
       "      <th>3</th>\n",
       "      <td>Peynir</td>\n",
       "      <td>Kiyma</td>\n",
       "      <td>Yumurta</td>\n",
       "      <td>Sut</td>\n",
       "      <td>Kola</td>\n",
       "      <td>NaN</td>\n",
       "      <td>NaN</td>\n",
       "    </tr>\n",
       "    <tr>\n",
       "      <th>4</th>\n",
       "      <td>Kiyma</td>\n",
       "      <td>Kalem</td>\n",
       "      <td>Kola</td>\n",
       "      <td>NaN</td>\n",
       "      <td>NaN</td>\n",
       "      <td>NaN</td>\n",
       "      <td>NaN</td>\n",
       "    </tr>\n",
       "  </tbody>\n",
       "</table>\n",
       "</div>"
      ],
      "text/plain": [
       "        0       1        2           3       4      5           6\n",
       "0   Ekmek    Kola  Yumurta       Kiyma  Peynir  Kalem  Bebek Bezi\n",
       "1   Ekmek  Peynir    Kiyma  Bebek Bezi    Kola    Sut       Kalem\n",
       "2  Peynir   Kiyma  Yumurta         Sut    Kola    NaN         NaN\n",
       "3  Peynir   Kiyma  Yumurta         Sut    Kola    NaN         NaN\n",
       "4   Kiyma   Kalem     Kola         NaN     NaN    NaN         NaN"
      ]
     },
     "execution_count": 29,
     "metadata": {},
     "output_type": "execute_result"
    }
   ],
   "source": [
    "hamveri.head()"
   ]
  },
  {
   "cell_type": "code",
   "execution_count": 30,
   "id": "afc2c85e",
   "metadata": {},
   "outputs": [
    {
     "data": {
      "text/plain": [
       "array(['Ekmek', 'Peynir', 'Kiyma', 'Yumurta', 'Kola', 'Makarna', 'Kalem',\n",
       "       'Bebek Bezi', 'Sut'], dtype=object)"
      ]
     },
     "execution_count": 30,
     "metadata": {},
     "output_type": "execute_result"
    }
   ],
   "source": [
    "column_names = (hamveri['0'].unique())\n",
    "column_names"
   ]
  },
  {
   "cell_type": "code",
   "execution_count": 31,
   "id": "e3bb14fb",
   "metadata": {
    "scrolled": true
   },
   "outputs": [
    {
     "data": {
      "text/plain": [
       "0      0\n",
       "1     30\n",
       "2     70\n",
       "3    128\n",
       "4    182\n",
       "5    244\n",
       "6    274\n",
       "dtype: int64"
      ]
     },
     "execution_count": 31,
     "metadata": {},
     "output_type": "execute_result"
    }
   ],
   "source": [
    "hamveri.isna().sum()"
   ]
  },
  {
   "cell_type": "code",
   "execution_count": 32,
   "id": "9c2e13e0",
   "metadata": {},
   "outputs": [
    {
     "data": {
      "text/plain": [
       "array(['Ekmek', 'Peynir', 'Kiyma', 'Yumurta', 'Kola', 'Makarna', 'Kalem',\n",
       "       'Bebek Bezi', 'Sut'], dtype=object)"
      ]
     },
     "execution_count": 32,
     "metadata": {},
     "output_type": "execute_result"
    }
   ],
   "source": [
    "hamveri[\"0\"].unique()"
   ]
  },
  {
   "cell_type": "code",
   "execution_count": 33,
   "id": "540d8c57",
   "metadata": {
    "scrolled": true
   },
   "outputs": [],
   "source": [
    "encoded_vals = []\n",
    "for index, row in hamveri.iterrows(): \n",
    "    labels = {}\n",
    "    uncommons = list(set(column_names) - set(row))\n",
    "    commons = list(set(column_names).intersection(row))\n",
    "    for uc in uncommons:\n",
    "        labels[uc] = 0\n",
    "    for com in commons:\n",
    "        labels[com] = 1\n",
    "    encoded_vals.append(labels)"
   ]
  },
  {
   "cell_type": "code",
   "execution_count": 34,
   "id": "b2fabfae",
   "metadata": {},
   "outputs": [],
   "source": [
    "ohe_hamveri = pd.DataFrame(encoded_vals)"
   ]
  },
  {
   "cell_type": "code",
   "execution_count": 35,
   "id": "4abb4a35",
   "metadata": {
    "scrolled": true
   },
   "outputs": [
    {
     "data": {
      "text/html": [
       "<div>\n",
       "<style scoped>\n",
       "    .dataframe tbody tr th:only-of-type {\n",
       "        vertical-align: middle;\n",
       "    }\n",
       "\n",
       "    .dataframe tbody tr th {\n",
       "        vertical-align: top;\n",
       "    }\n",
       "\n",
       "    .dataframe thead th {\n",
       "        text-align: right;\n",
       "    }\n",
       "</style>\n",
       "<table border=\"1\" class=\"dataframe\">\n",
       "  <thead>\n",
       "    <tr style=\"text-align: right;\">\n",
       "      <th></th>\n",
       "      <th>Makarna</th>\n",
       "      <th>Sut</th>\n",
       "      <th>Kiyma</th>\n",
       "      <th>Peynir</th>\n",
       "      <th>Bebek Bezi</th>\n",
       "      <th>Kola</th>\n",
       "      <th>Yumurta</th>\n",
       "      <th>Kalem</th>\n",
       "      <th>Ekmek</th>\n",
       "    </tr>\n",
       "  </thead>\n",
       "  <tbody>\n",
       "    <tr>\n",
       "      <th>0</th>\n",
       "      <td>0</td>\n",
       "      <td>0</td>\n",
       "      <td>1</td>\n",
       "      <td>1</td>\n",
       "      <td>1</td>\n",
       "      <td>1</td>\n",
       "      <td>1</td>\n",
       "      <td>1</td>\n",
       "      <td>1</td>\n",
       "    </tr>\n",
       "    <tr>\n",
       "      <th>1</th>\n",
       "      <td>0</td>\n",
       "      <td>1</td>\n",
       "      <td>1</td>\n",
       "      <td>1</td>\n",
       "      <td>1</td>\n",
       "      <td>1</td>\n",
       "      <td>0</td>\n",
       "      <td>1</td>\n",
       "      <td>1</td>\n",
       "    </tr>\n",
       "    <tr>\n",
       "      <th>2</th>\n",
       "      <td>0</td>\n",
       "      <td>1</td>\n",
       "      <td>1</td>\n",
       "      <td>1</td>\n",
       "      <td>0</td>\n",
       "      <td>1</td>\n",
       "      <td>1</td>\n",
       "      <td>0</td>\n",
       "      <td>0</td>\n",
       "    </tr>\n",
       "    <tr>\n",
       "      <th>3</th>\n",
       "      <td>0</td>\n",
       "      <td>1</td>\n",
       "      <td>1</td>\n",
       "      <td>1</td>\n",
       "      <td>0</td>\n",
       "      <td>1</td>\n",
       "      <td>1</td>\n",
       "      <td>0</td>\n",
       "      <td>0</td>\n",
       "    </tr>\n",
       "    <tr>\n",
       "      <th>4</th>\n",
       "      <td>0</td>\n",
       "      <td>0</td>\n",
       "      <td>1</td>\n",
       "      <td>0</td>\n",
       "      <td>0</td>\n",
       "      <td>1</td>\n",
       "      <td>0</td>\n",
       "      <td>1</td>\n",
       "      <td>0</td>\n",
       "    </tr>\n",
       "    <tr>\n",
       "      <th>...</th>\n",
       "      <td>...</td>\n",
       "      <td>...</td>\n",
       "      <td>...</td>\n",
       "      <td>...</td>\n",
       "      <td>...</td>\n",
       "      <td>...</td>\n",
       "      <td>...</td>\n",
       "      <td>...</td>\n",
       "      <td>...</td>\n",
       "    </tr>\n",
       "    <tr>\n",
       "      <th>310</th>\n",
       "      <td>0</td>\n",
       "      <td>0</td>\n",
       "      <td>0</td>\n",
       "      <td>1</td>\n",
       "      <td>0</td>\n",
       "      <td>0</td>\n",
       "      <td>1</td>\n",
       "      <td>0</td>\n",
       "      <td>1</td>\n",
       "    </tr>\n",
       "    <tr>\n",
       "      <th>311</th>\n",
       "      <td>0</td>\n",
       "      <td>1</td>\n",
       "      <td>1</td>\n",
       "      <td>0</td>\n",
       "      <td>0</td>\n",
       "      <td>0</td>\n",
       "      <td>0</td>\n",
       "      <td>1</td>\n",
       "      <td>0</td>\n",
       "    </tr>\n",
       "    <tr>\n",
       "      <th>312</th>\n",
       "      <td>0</td>\n",
       "      <td>0</td>\n",
       "      <td>1</td>\n",
       "      <td>1</td>\n",
       "      <td>1</td>\n",
       "      <td>1</td>\n",
       "      <td>1</td>\n",
       "      <td>1</td>\n",
       "      <td>1</td>\n",
       "    </tr>\n",
       "    <tr>\n",
       "      <th>313</th>\n",
       "      <td>0</td>\n",
       "      <td>0</td>\n",
       "      <td>1</td>\n",
       "      <td>1</td>\n",
       "      <td>0</td>\n",
       "      <td>0</td>\n",
       "      <td>0</td>\n",
       "      <td>0</td>\n",
       "      <td>0</td>\n",
       "    </tr>\n",
       "    <tr>\n",
       "      <th>314</th>\n",
       "      <td>1</td>\n",
       "      <td>0</td>\n",
       "      <td>1</td>\n",
       "      <td>0</td>\n",
       "      <td>0</td>\n",
       "      <td>1</td>\n",
       "      <td>1</td>\n",
       "      <td>0</td>\n",
       "      <td>1</td>\n",
       "    </tr>\n",
       "  </tbody>\n",
       "</table>\n",
       "<p>315 rows × 9 columns</p>\n",
       "</div>"
      ],
      "text/plain": [
       "     Makarna  Sut  Kiyma  Peynir  Bebek Bezi  Kola  Yumurta  Kalem  Ekmek\n",
       "0          0    0      1       1           1     1        1      1      1\n",
       "1          0    1      1       1           1     1        0      1      1\n",
       "2          0    1      1       1           0     1        1      0      0\n",
       "3          0    1      1       1           0     1        1      0      0\n",
       "4          0    0      1       0           0     1        0      1      0\n",
       "..       ...  ...    ...     ...         ...   ...      ...    ...    ...\n",
       "310        0    0      0       1           0     0        1      0      1\n",
       "311        0    1      1       0           0     0        0      1      0\n",
       "312        0    0      1       1           1     1        1      1      1\n",
       "313        0    0      1       1           0     0        0      0      0\n",
       "314        1    0      1       0           0     1        1      0      1\n",
       "\n",
       "[315 rows x 9 columns]"
      ]
     },
     "execution_count": 35,
     "metadata": {},
     "output_type": "execute_result"
    }
   ],
   "source": [
    "ohe_hamveri"
   ]
  },
  {
   "cell_type": "code",
   "execution_count": 36,
   "id": "37ca6d3d",
   "metadata": {
    "scrolled": true
   },
   "outputs": [
    {
     "data": {
      "text/plain": [
       "134"
      ]
     },
     "execution_count": 36,
     "metadata": {},
     "output_type": "execute_result"
    }
   ],
   "source": [
    "# Müşterilerin makarna ürününü kaç kere satın aldığı\n",
    "ohe_hamveri[\"Makarna\"][ohe_hamveri[\"Makarna\"]>0].sum()"
   ]
  },
  {
   "cell_type": "code",
   "execution_count": 37,
   "id": "ff1bf4c7",
   "metadata": {},
   "outputs": [],
   "source": [
    "miktar = ohe_hamveri[column_names][ohe_hamveri[column_names]>0].sum()"
   ]
  },
  {
   "cell_type": "code",
   "execution_count": 38,
   "id": "f73669aa",
   "metadata": {},
   "outputs": [
    {
     "data": {
      "text/html": [
       "<div>\n",
       "<style scoped>\n",
       "    .dataframe tbody tr th:only-of-type {\n",
       "        vertical-align: middle;\n",
       "    }\n",
       "\n",
       "    .dataframe tbody tr th {\n",
       "        vertical-align: top;\n",
       "    }\n",
       "\n",
       "    .dataframe thead th {\n",
       "        text-align: right;\n",
       "    }\n",
       "</style>\n",
       "<table border=\"1\" class=\"dataframe\">\n",
       "  <thead>\n",
       "    <tr style=\"text-align: right;\">\n",
       "      <th></th>\n",
       "      <th>Miktar</th>\n",
       "    </tr>\n",
       "  </thead>\n",
       "  <tbody>\n",
       "    <tr>\n",
       "      <th>Ekmek</th>\n",
       "      <td>159</td>\n",
       "    </tr>\n",
       "    <tr>\n",
       "      <th>Peynir</th>\n",
       "      <td>158</td>\n",
       "    </tr>\n",
       "    <tr>\n",
       "      <th>Kiyma</th>\n",
       "      <td>150</td>\n",
       "    </tr>\n",
       "    <tr>\n",
       "      <th>Yumurta</th>\n",
       "      <td>138</td>\n",
       "    </tr>\n",
       "    <tr>\n",
       "      <th>Kola</th>\n",
       "      <td>138</td>\n",
       "    </tr>\n",
       "    <tr>\n",
       "      <th>Makarna</th>\n",
       "      <td>134</td>\n",
       "    </tr>\n",
       "    <tr>\n",
       "      <th>Kalem</th>\n",
       "      <td>114</td>\n",
       "    </tr>\n",
       "    <tr>\n",
       "      <th>Bebek Bezi</th>\n",
       "      <td>128</td>\n",
       "    </tr>\n",
       "    <tr>\n",
       "      <th>Sut</th>\n",
       "      <td>158</td>\n",
       "    </tr>\n",
       "  </tbody>\n",
       "</table>\n",
       "</div>"
      ],
      "text/plain": [
       "            Miktar\n",
       "Ekmek          159\n",
       "Peynir         158\n",
       "Kiyma          150\n",
       "Yumurta        138\n",
       "Kola           138\n",
       "Makarna        134\n",
       "Kalem          114\n",
       "Bebek Bezi     128\n",
       "Sut            158"
      ]
     },
     "execution_count": 38,
     "metadata": {},
     "output_type": "execute_result"
    }
   ],
   "source": [
    "miktar = pd.DataFrame(miktar,dtype=int)\n",
    "miktar.columns=[\"Miktar\"]\n",
    "miktar"
   ]
  },
  {
   "cell_type": "code",
   "execution_count": 39,
   "id": "8cd74adf",
   "metadata": {},
   "outputs": [
    {
     "data": {
      "text/plain": [
       "<matplotlib.legend.Legend at 0x24d71797a10>"
      ]
     },
     "execution_count": 39,
     "metadata": {},
     "output_type": "execute_result"
    },
    {
     "data": {
      "image/png": "[encoded data removed]",
      "text/plain": [
       "<Figure size 640x480 with 1 Axes>"
      ]
     },
     "metadata": {},
     "output_type": "display_data"
    }
   ],
   "source": [
    "plt.style.use('dark_background')\n",
    "plt.plot(miktar, label = 'miktar',marker = 'X')\n",
    "plt.legend()"
   ]
  },
  {
   "cell_type": "markdown",
   "id": "9f00eeb5",
   "metadata": {},
   "source": [
    "Birinci Adım\n",
    "Apriori algoritmasının ilk adımı, elimizde bulunan verilerdeki her ürünün frekans değerinin (tekrar sayısının) bulunup, support değerlerinin hesaplanmasıdır. Her ürünün tablomuzda kaç kez bulunduğunu tek tek saydığımızda oluşan frekans ve support tablosu aşağıda gösterilmiştir."
   ]
  },
  {
   "cell_type": "code",
   "execution_count": 40,
   "id": "bfcfbf19",
   "metadata": {
    "scrolled": true
   },
   "outputs": [],
   "source": [
    "pip install mlxtend"
   ]
  },
  {
   "cell_type": "markdown",
   "id": "4169f62d",
   "metadata": {},
   "source": [
    "Birliktelik kuralında, öğeler arasındaki birliktelik, destek ve güven kriterleri ile hesaplanır.\n",
    "Destek (Support) kriteri, veride öğeler arasındaki bağıntının ne kadar sık olduğunu belirtir.\n",
    "X ve Y farklı ürünler olmak üzere, X ürünü için destek, tüm alışverişler içinde X ürününün oranıdır.\n",
    "DESTEK(X) = X Sayısı / Toplam Alışveriş Sayısı X ve Y ürünleri için destek,\n",
    "X ve Y’nin bir arada tüm alışverişler içinde bulunma olasılığıdır.\n",
    "DESTEK(X, Y) = (X, Y) Sayısı / Toplam Alışveriş Sayısı"
   ]
  },
  {
   "cell_type": "code",
   "execution_count": 41,
   "id": "2811af53",
   "metadata": {},
   "outputs": [
    {
     "name": "stdout",
     "output_type": "stream",
     "text": [
      "Processing 4 combinations | Sampling itemset size 4 3\n"
     ]
    },
    {
     "name": "stderr",
     "output_type": "stream",
     "text": [
      "C:\\Users\\gulse\\AppData\\Local\\Programs\\Python\\Python312\\Lib\\site-packages\\mlxtend\\frequent_patterns\\fpcommon.py:109: DeprecationWarning: DataFrames with non-bool types result in worse computationalperformance and their support might be discontinued in the future.Please use a DataFrame with bool type\n",
      "  warnings.warn(\n"
     ]
    }
   ],
   "source": [
    "# Öncelikle minimum destek değerini belirliyoruz.\n",
    "\n",
    "\n",
    "from mlxtend.frequent_patterns import apriori, association_rules\n",
    "frekans_degeri = apriori(ohe_hamveri, min_support = 0.2, use_colnames = True, verbose = 1)"
   ]
  },
  {
   "cell_type": "code",
   "execution_count": 42,
   "id": "05fb84b7",
   "metadata": {},
   "outputs": [
    {
     "data": {
      "text/html": [
       "<div>\n",
       "<style scoped>\n",
       "    .dataframe tbody tr th:only-of-type {\n",
       "        vertical-align: middle;\n",
       "    }\n",
       "\n",
       "    .dataframe tbody tr th {\n",
       "        vertical-align: top;\n",
       "    }\n",
       "\n",
       "    .dataframe thead th {\n",
       "        text-align: right;\n",
       "    }\n",
       "</style>\n",
       "<table border=\"1\" class=\"dataframe\">\n",
       "  <thead>\n",
       "    <tr style=\"text-align: right;\">\n",
       "      <th></th>\n",
       "      <th>support</th>\n",
       "      <th>itemsets</th>\n",
       "    </tr>\n",
       "  </thead>\n",
       "  <tbody>\n",
       "    <tr>\n",
       "      <th>0</th>\n",
       "      <td>0.425397</td>\n",
       "      <td>(Makarna)</td>\n",
       "    </tr>\n",
       "    <tr>\n",
       "      <th>1</th>\n",
       "      <td>0.501587</td>\n",
       "      <td>(Sut)</td>\n",
       "    </tr>\n",
       "    <tr>\n",
       "      <th>2</th>\n",
       "      <td>0.476190</td>\n",
       "      <td>(Kiyma)</td>\n",
       "    </tr>\n",
       "    <tr>\n",
       "      <th>3</th>\n",
       "      <td>0.501587</td>\n",
       "      <td>(Peynir)</td>\n",
       "    </tr>\n",
       "    <tr>\n",
       "      <th>4</th>\n",
       "      <td>0.406349</td>\n",
       "      <td>(Bebek Bezi)</td>\n",
       "    </tr>\n",
       "    <tr>\n",
       "      <th>5</th>\n",
       "      <td>0.438095</td>\n",
       "      <td>(Kola)</td>\n",
       "    </tr>\n",
       "    <tr>\n",
       "      <th>6</th>\n",
       "      <td>0.438095</td>\n",
       "      <td>(Yumurta)</td>\n",
       "    </tr>\n",
       "    <tr>\n",
       "      <th>7</th>\n",
       "      <td>0.361905</td>\n",
       "      <td>(Kalem)</td>\n",
       "    </tr>\n",
       "    <tr>\n",
       "      <th>8</th>\n",
       "      <td>0.504762</td>\n",
       "      <td>(Ekmek)</td>\n",
       "    </tr>\n",
       "    <tr>\n",
       "      <th>9</th>\n",
       "      <td>0.225397</td>\n",
       "      <td>(Makarna, Sut)</td>\n",
       "    </tr>\n",
       "    <tr>\n",
       "      <th>10</th>\n",
       "      <td>0.279365</td>\n",
       "      <td>(Makarna, Ekmek)</td>\n",
       "    </tr>\n",
       "    <tr>\n",
       "      <th>11</th>\n",
       "      <td>0.244444</td>\n",
       "      <td>(Sut, Kiyma)</td>\n",
       "    </tr>\n",
       "    <tr>\n",
       "      <th>12</th>\n",
       "      <td>0.304762</td>\n",
       "      <td>(Sut, Peynir)</td>\n",
       "    </tr>\n",
       "    <tr>\n",
       "      <th>13</th>\n",
       "      <td>0.219048</td>\n",
       "      <td>(Sut, Kola)</td>\n",
       "    </tr>\n",
       "    <tr>\n",
       "      <th>14</th>\n",
       "      <td>0.244444</td>\n",
       "      <td>(Yumurta, Sut)</td>\n",
       "    </tr>\n",
       "    <tr>\n",
       "      <th>15</th>\n",
       "      <td>0.279365</td>\n",
       "      <td>(Ekmek, Sut)</td>\n",
       "    </tr>\n",
       "    <tr>\n",
       "      <th>16</th>\n",
       "      <td>0.323810</td>\n",
       "      <td>(Kiyma, Peynir)</td>\n",
       "    </tr>\n",
       "    <tr>\n",
       "      <th>17</th>\n",
       "      <td>0.250794</td>\n",
       "      <td>(Kola, Kiyma)</td>\n",
       "    </tr>\n",
       "    <tr>\n",
       "      <th>18</th>\n",
       "      <td>0.266667</td>\n",
       "      <td>(Yumurta, Kiyma)</td>\n",
       "    </tr>\n",
       "    <tr>\n",
       "      <th>19</th>\n",
       "      <td>0.206349</td>\n",
       "      <td>(Ekmek, Kiyma)</td>\n",
       "    </tr>\n",
       "    <tr>\n",
       "      <th>20</th>\n",
       "      <td>0.200000</td>\n",
       "      <td>(Bebek Bezi, Peynir)</td>\n",
       "    </tr>\n",
       "    <tr>\n",
       "      <th>21</th>\n",
       "      <td>0.269841</td>\n",
       "      <td>(Kola, Peynir)</td>\n",
       "    </tr>\n",
       "    <tr>\n",
       "      <th>22</th>\n",
       "      <td>0.298413</td>\n",
       "      <td>(Yumurta, Peynir)</td>\n",
       "    </tr>\n",
       "    <tr>\n",
       "      <th>23</th>\n",
       "      <td>0.200000</td>\n",
       "      <td>(Kalem, Peynir)</td>\n",
       "    </tr>\n",
       "    <tr>\n",
       "      <th>24</th>\n",
       "      <td>0.238095</td>\n",
       "      <td>(Ekmek, Peynir)</td>\n",
       "    </tr>\n",
       "    <tr>\n",
       "      <th>25</th>\n",
       "      <td>0.234921</td>\n",
       "      <td>(Bebek Bezi, Kola)</td>\n",
       "    </tr>\n",
       "    <tr>\n",
       "      <th>26</th>\n",
       "      <td>0.231746</td>\n",
       "      <td>(Bebek Bezi, Ekmek)</td>\n",
       "    </tr>\n",
       "    <tr>\n",
       "      <th>27</th>\n",
       "      <td>0.241270</td>\n",
       "      <td>(Yumurta, Kola)</td>\n",
       "    </tr>\n",
       "    <tr>\n",
       "      <th>28</th>\n",
       "      <td>0.200000</td>\n",
       "      <td>(Kalem, Kola)</td>\n",
       "    </tr>\n",
       "    <tr>\n",
       "      <th>29</th>\n",
       "      <td>0.244444</td>\n",
       "      <td>(Ekmek, Kola)</td>\n",
       "    </tr>\n",
       "    <tr>\n",
       "      <th>30</th>\n",
       "      <td>0.200000</td>\n",
       "      <td>(Kalem, Ekmek)</td>\n",
       "    </tr>\n",
       "    <tr>\n",
       "      <th>31</th>\n",
       "      <td>0.203175</td>\n",
       "      <td>(Sut, Kiyma, Peynir)</td>\n",
       "    </tr>\n",
       "    <tr>\n",
       "      <th>32</th>\n",
       "      <td>0.215873</td>\n",
       "      <td>(Yumurta, Kiyma, Peynir)</td>\n",
       "    </tr>\n",
       "  </tbody>\n",
       "</table>\n",
       "</div>"
      ],
      "text/plain": [
       "     support                  itemsets\n",
       "0   0.425397                 (Makarna)\n",
       "1   0.501587                     (Sut)\n",
       "2   0.476190                   (Kiyma)\n",
       "3   0.501587                  (Peynir)\n",
       "4   0.406349              (Bebek Bezi)\n",
       "5   0.438095                    (Kola)\n",
       "6   0.438095                 (Yumurta)\n",
       "7   0.361905                   (Kalem)\n",
       "8   0.504762                   (Ekmek)\n",
       "9   0.225397            (Makarna, Sut)\n",
       "10  0.279365          (Makarna, Ekmek)\n",
       "11  0.244444              (Sut, Kiyma)\n",
       "12  0.304762             (Sut, Peynir)\n",
       "13  0.219048               (Sut, Kola)\n",
       "14  0.244444            (Yumurta, Sut)\n",
       "15  0.279365              (Ekmek, Sut)\n",
       "16  0.323810           (Kiyma, Peynir)\n",
       "17  0.250794             (Kola, Kiyma)\n",
       "18  0.266667          (Yumurta, Kiyma)\n",
       "19  0.206349            (Ekmek, Kiyma)\n",
       "20  0.200000      (Bebek Bezi, Peynir)\n",
       "21  0.269841            (Kola, Peynir)\n",
       "22  0.298413         (Yumurta, Peynir)\n",
       "23  0.200000           (Kalem, Peynir)\n",
       "24  0.238095           (Ekmek, Peynir)\n",
       "25  0.234921        (Bebek Bezi, Kola)\n",
       "26  0.231746       (Bebek Bezi, Ekmek)\n",
       "27  0.241270           (Yumurta, Kola)\n",
       "28  0.200000             (Kalem, Kola)\n",
       "29  0.244444             (Ekmek, Kola)\n",
       "30  0.200000            (Kalem, Ekmek)\n",
       "31  0.203175      (Sut, Kiyma, Peynir)\n",
       "32  0.215873  (Yumurta, Kiyma, Peynir)"
      ]
     },
     "execution_count": 42,
     "metadata": {},
     "output_type": "execute_result"
    }
   ],
   "source": [
    "frekans_degeri\n",
    "# Belirlediğimiz destek değerinin üstündeki tüm ürünler ve ürün kombinasyonları bulundu."
   ]
  },
  {
   "cell_type": "code",
   "execution_count": 43,
   "id": "8c5ef5c7",
   "metadata": {},
   "outputs": [
    {
     "data": {
      "text/plain": [
       "1       (Sut)\n",
       "2     (Kiyma)\n",
       "3    (Peynir)\n",
       "8     (Ekmek)\n",
       "Name: itemsets, dtype: object"
      ]
     },
     "execution_count": 43,
     "metadata": {},
     "output_type": "execute_result"
    }
   ],
   "source": [
    "# Destek değeri 0.45'ten yüksek olanları göster.\n",
    "frekans_degeri[\"itemsets\"][frekans_degeri[\"support\"]>0.45]"
   ]
  },
  {
   "cell_type": "code",
   "execution_count": 44,
   "id": "61129d71",
   "metadata": {
    "scrolled": true
   },
   "outputs": [
    {
     "data": {
      "text/plain": [
       "<Axes: >"
      ]
     },
     "execution_count": 44,
     "metadata": {},
     "output_type": "execute_result"
    },
    {
     "data": {
      "image/png": "[encoded data removed]",
      "text/plain": [
       "<Figure size 640x480 with 1 Axes>"
      ]
     },
     "metadata": {},
     "output_type": "display_data"
    }
   ],
   "source": [
    "# Tek veya birlikte ürün kombinasyonları ortalama 0.25 destek değerine sahip.\n",
    "frekans_degeri[\"support\"].plot.box()"
   ]
  },
  {
   "cell_type": "code",
   "execution_count": null,
   "id": "aed99f64",
   "metadata": {},
   "outputs": [],
   "source": []
  },
  {
   "cell_type": "markdown",
   "id": "3b88bda2",
   "metadata": {},
   "source": [
    "Güven (confidence) kriteri ise Y ürününün hangi olasılıkla X ürünü ile beraber olacağını söyler.\n",
    "GÜVEN(X, Y) = (X, Y) Sayısı / X’i İçeren Alışveriş Sayısı GÜVEN(X ⇒ Y) = DESTEK(X, Y) / DESTEK(X)\n",
    "Elde edilen kuralların güvenirliliği, destek ve güven değerleri ile doğru orantılıdır. \n",
    "Her kural bir destek ve güven değeri ile ifade edilir.\n",
    "A⇒B      [destek = 2%, güven = 60%] Birliktelik kuralı için 2% destek değeri,\n",
    "analiz edilen tüm alışverişlerden 2%’sinde A ile B ürünlerinin birlikte satıldığını belirtir.\n",
    "60% oranındaki güven değeri ise A ürününü satın alan müşterilerin 60%’ ının aynı alışverişte B ürününü de satın aldığını gösterir. "
   ]
  },
  {
   "cell_type": "code",
   "execution_count": 45,
   "id": "2c1b1f43",
   "metadata": {},
   "outputs": [
    {
     "ename": "FileNotFoundError",
     "evalue": "[Errno 2] No such file or directory: 'hey.png'",
     "output_type": "error",
     "traceback": [
      "\u001b[1;31m---------------------------------------------------------------------------\u001b[0m",
      "\u001b[1;31mFileNotFoundError\u001b[0m                         Traceback (most recent call last)",
      "Cell \u001b[1;32mIn[45], line 1\u001b[0m\n\u001b[1;32m----> 1\u001b[0m \u001b[43mImage\u001b[49m\u001b[43m(\u001b[49m\u001b[43mfilename\u001b[49m\u001b[38;5;241;43m=\u001b[39;49m\u001b[38;5;124;43m'\u001b[39;49m\u001b[38;5;124;43mhey.png\u001b[39;49m\u001b[38;5;124;43m'\u001b[39;49m\u001b[43m,\u001b[49m\u001b[43mwidth\u001b[49m\u001b[38;5;241;43m=\u001b[39;49m\u001b[38;5;241;43m600\u001b[39;49m\u001b[43m,\u001b[49m\u001b[43m \u001b[49m\u001b[43mheight\u001b[49m\u001b[38;5;241;43m=\u001b[39;49m\u001b[38;5;241;43m400\u001b[39;49m\u001b[43m)\u001b[49m\n",
      "File \u001b[1;32m~\\AppData\\Local\\Programs\\Python\\Python312\\Lib\\site-packages\\IPython\\core\\display.py:970\u001b[0m, in \u001b[0;36mImage.__init__\u001b[1;34m(self, data, url, filename, format, embed, width, height, retina, unconfined, metadata, alt)\u001b[0m\n\u001b[0;32m    968\u001b[0m \u001b[38;5;28mself\u001b[39m\u001b[38;5;241m.\u001b[39munconfined \u001b[38;5;241m=\u001b[39m unconfined\n\u001b[0;32m    969\u001b[0m \u001b[38;5;28mself\u001b[39m\u001b[38;5;241m.\u001b[39malt \u001b[38;5;241m=\u001b[39m alt\n\u001b[1;32m--> 970\u001b[0m \u001b[38;5;28;43msuper\u001b[39;49m\u001b[43m(\u001b[49m\u001b[43mImage\u001b[49m\u001b[43m,\u001b[49m\u001b[43m \u001b[49m\u001b[38;5;28;43mself\u001b[39;49m\u001b[43m)\u001b[49m\u001b[38;5;241;43m.\u001b[39;49m\u001b[38;5;21;43m__init__\u001b[39;49m\u001b[43m(\u001b[49m\u001b[43mdata\u001b[49m\u001b[38;5;241;43m=\u001b[39;49m\u001b[43mdata\u001b[49m\u001b[43m,\u001b[49m\u001b[43m \u001b[49m\u001b[43murl\u001b[49m\u001b[38;5;241;43m=\u001b[39;49m\u001b[43murl\u001b[49m\u001b[43m,\u001b[49m\u001b[43m \u001b[49m\u001b[43mfilename\u001b[49m\u001b[38;5;241;43m=\u001b[39;49m\u001b[43mfilename\u001b[49m\u001b[43m,\u001b[49m\n\u001b[0;32m    971\u001b[0m \u001b[43m        \u001b[49m\u001b[43mmetadata\u001b[49m\u001b[38;5;241;43m=\u001b[39;49m\u001b[43mmetadata\u001b[49m\u001b[43m)\u001b[49m\n\u001b[0;32m    973\u001b[0m \u001b[38;5;28;01mif\u001b[39;00m \u001b[38;5;28mself\u001b[39m\u001b[38;5;241m.\u001b[39mwidth \u001b[38;5;129;01mis\u001b[39;00m \u001b[38;5;28;01mNone\u001b[39;00m \u001b[38;5;129;01mand\u001b[39;00m \u001b[38;5;28mself\u001b[39m\u001b[38;5;241m.\u001b[39mmetadata\u001b[38;5;241m.\u001b[39mget(\u001b[38;5;124m'\u001b[39m\u001b[38;5;124mwidth\u001b[39m\u001b[38;5;124m'\u001b[39m, {}):\n\u001b[0;32m    974\u001b[0m     \u001b[38;5;28mself\u001b[39m\u001b[38;5;241m.\u001b[39mwidth \u001b[38;5;241m=\u001b[39m metadata[\u001b[38;5;124m'\u001b[39m\u001b[38;5;124mwidth\u001b[39m\u001b[38;5;124m'\u001b[39m]\n",
      "File \u001b[1;32m~\\AppData\\Local\\Programs\\Python\\Python312\\Lib\\site-packages\\IPython\\core\\display.py:327\u001b[0m, in \u001b[0;36mDisplayObject.__init__\u001b[1;34m(self, data, url, filename, metadata)\u001b[0m\n\u001b[0;32m    324\u001b[0m \u001b[38;5;28;01melif\u001b[39;00m \u001b[38;5;28mself\u001b[39m\u001b[38;5;241m.\u001b[39mmetadata \u001b[38;5;129;01mis\u001b[39;00m \u001b[38;5;28;01mNone\u001b[39;00m:\n\u001b[0;32m    325\u001b[0m     \u001b[38;5;28mself\u001b[39m\u001b[38;5;241m.\u001b[39mmetadata \u001b[38;5;241m=\u001b[39m {}\n\u001b[1;32m--> 327\u001b[0m \u001b[38;5;28;43mself\u001b[39;49m\u001b[38;5;241;43m.\u001b[39;49m\u001b[43mreload\u001b[49m\u001b[43m(\u001b[49m\u001b[43m)\u001b[49m\n\u001b[0;32m    328\u001b[0m \u001b[38;5;28mself\u001b[39m\u001b[38;5;241m.\u001b[39m_check_data()\n",
      "File \u001b[1;32m~\\AppData\\Local\\Programs\\Python\\Python312\\Lib\\site-packages\\IPython\\core\\display.py:1005\u001b[0m, in \u001b[0;36mImage.reload\u001b[1;34m(self)\u001b[0m\n\u001b[0;32m   1003\u001b[0m \u001b[38;5;250m\u001b[39m\u001b[38;5;124;03m\"\"\"Reload the raw data from file or URL.\"\"\"\u001b[39;00m\n\u001b[0;32m   1004\u001b[0m \u001b[38;5;28;01mif\u001b[39;00m \u001b[38;5;28mself\u001b[39m\u001b[38;5;241m.\u001b[39membed:\n\u001b[1;32m-> 1005\u001b[0m     \u001b[38;5;28;43msuper\u001b[39;49m\u001b[43m(\u001b[49m\u001b[43mImage\u001b[49m\u001b[43m,\u001b[49m\u001b[38;5;28;43mself\u001b[39;49m\u001b[43m)\u001b[49m\u001b[38;5;241;43m.\u001b[39;49m\u001b[43mreload\u001b[49m\u001b[43m(\u001b[49m\u001b[43m)\u001b[49m\n\u001b[0;32m   1006\u001b[0m     \u001b[38;5;28;01mif\u001b[39;00m \u001b[38;5;28mself\u001b[39m\u001b[38;5;241m.\u001b[39mretina:\n\u001b[0;32m   1007\u001b[0m         \u001b[38;5;28mself\u001b[39m\u001b[38;5;241m.\u001b[39m_retina_shape()\n",
      "File \u001b[1;32m~\\AppData\\Local\\Programs\\Python\\Python312\\Lib\\site-packages\\IPython\\core\\display.py:353\u001b[0m, in \u001b[0;36mDisplayObject.reload\u001b[1;34m(self)\u001b[0m\n\u001b[0;32m    351\u001b[0m \u001b[38;5;28;01mif\u001b[39;00m \u001b[38;5;28mself\u001b[39m\u001b[38;5;241m.\u001b[39mfilename \u001b[38;5;129;01mis\u001b[39;00m \u001b[38;5;129;01mnot\u001b[39;00m \u001b[38;5;28;01mNone\u001b[39;00m:\n\u001b[0;32m    352\u001b[0m     encoding \u001b[38;5;241m=\u001b[39m \u001b[38;5;28;01mNone\u001b[39;00m \u001b[38;5;28;01mif\u001b[39;00m \u001b[38;5;124m\"\u001b[39m\u001b[38;5;124mb\u001b[39m\u001b[38;5;124m\"\u001b[39m \u001b[38;5;129;01min\u001b[39;00m \u001b[38;5;28mself\u001b[39m\u001b[38;5;241m.\u001b[39m_read_flags \u001b[38;5;28;01melse\u001b[39;00m \u001b[38;5;124m\"\u001b[39m\u001b[38;5;124mutf-8\u001b[39m\u001b[38;5;124m\"\u001b[39m\n\u001b[1;32m--> 353\u001b[0m     \u001b[38;5;28;01mwith\u001b[39;00m \u001b[38;5;28;43mopen\u001b[39;49m\u001b[43m(\u001b[49m\u001b[38;5;28;43mself\u001b[39;49m\u001b[38;5;241;43m.\u001b[39;49m\u001b[43mfilename\u001b[49m\u001b[43m,\u001b[49m\u001b[43m \u001b[49m\u001b[38;5;28;43mself\u001b[39;49m\u001b[38;5;241;43m.\u001b[39;49m\u001b[43m_read_flags\u001b[49m\u001b[43m,\u001b[49m\u001b[43m \u001b[49m\u001b[43mencoding\u001b[49m\u001b[38;5;241;43m=\u001b[39;49m\u001b[43mencoding\u001b[49m\u001b[43m)\u001b[49m \u001b[38;5;28;01mas\u001b[39;00m f:\n\u001b[0;32m    354\u001b[0m         \u001b[38;5;28mself\u001b[39m\u001b[38;5;241m.\u001b[39mdata \u001b[38;5;241m=\u001b[39m f\u001b[38;5;241m.\u001b[39mread()\n\u001b[0;32m    355\u001b[0m \u001b[38;5;28;01melif\u001b[39;00m \u001b[38;5;28mself\u001b[39m\u001b[38;5;241m.\u001b[39murl \u001b[38;5;129;01mis\u001b[39;00m \u001b[38;5;129;01mnot\u001b[39;00m \u001b[38;5;28;01mNone\u001b[39;00m:\n\u001b[0;32m    356\u001b[0m     \u001b[38;5;66;03m# Deferred import\u001b[39;00m\n",
      "\u001b[1;31mFileNotFoundError\u001b[0m: [Errno 2] No such file or directory: 'hey.png'"
     ]
    }
   ],
   "source": [
    "Image(filename='hey.png',width=600, height=400)"
   ]
  },
  {
   "cell_type": "markdown",
   "id": "576baf07",
   "metadata": {},
   "source": [
    "Bulacağımız değerler aşağıda sıralanmıştır.\n",
    "1. Confidence (Güven)\n",
    "2. Lift (İlginçlik)\n",
    "3. Conviction\n",
    "4. Leverage\n",
    "5. Conviction\n",
    "\n",
    "Bu değerler arasından genellikle kullanacağımız iki değer vardır.\n",
    "Confidence (Güven) ve Lift (İlginçlik).\n",
    "Confidence değeri 0 ile 1 arasındadır. Yüksek değer kuralımızın güvenli(doğru olabilecek) olduğunu belirtir."
   ]
  },
  {
   "cell_type": "code",
   "execution_count": 46,
   "id": "908f9737",
   "metadata": {},
   "outputs": [],
   "source": [
    "solve = association_rules(frekans_degeri, metric = \"confidence\", min_threshold = 0.6)"
   ]
  },
  {
   "cell_type": "code",
   "execution_count": 47,
   "id": "394c2502",
   "metadata": {},
   "outputs": [
    {
     "data": {
      "text/html": [
       "<div>\n",
       "<style scoped>\n",
       "    .dataframe tbody tr th:only-of-type {\n",
       "        vertical-align: middle;\n",
       "    }\n",
       "\n",
       "    .dataframe tbody tr th {\n",
       "        vertical-align: top;\n",
       "    }\n",
       "\n",
       "    .dataframe thead th {\n",
       "        text-align: right;\n",
       "    }\n",
       "</style>\n",
       "<table border=\"1\" class=\"dataframe\">\n",
       "  <thead>\n",
       "    <tr style=\"text-align: right;\">\n",
       "      <th></th>\n",
       "      <th>antecedents</th>\n",
       "      <th>consequents</th>\n",
       "      <th>antecedent support</th>\n",
       "      <th>consequent support</th>\n",
       "      <th>support</th>\n",
       "      <th>confidence</th>\n",
       "      <th>lift</th>\n",
       "      <th>leverage</th>\n",
       "      <th>conviction</th>\n",
       "      <th>zhangs_metric</th>\n",
       "    </tr>\n",
       "  </thead>\n",
       "  <tbody>\n",
       "    <tr>\n",
       "      <th>0</th>\n",
       "      <td>(Makarna)</td>\n",
       "      <td>(Ekmek)</td>\n",
       "      <td>0.425397</td>\n",
       "      <td>0.504762</td>\n",
       "      <td>0.279365</td>\n",
       "      <td>0.656716</td>\n",
       "      <td>1.301042</td>\n",
       "      <td>0.064641</td>\n",
       "      <td>1.442650</td>\n",
       "      <td>0.402687</td>\n",
       "    </tr>\n",
       "    <tr>\n",
       "      <th>1</th>\n",
       "      <td>(Sut)</td>\n",
       "      <td>(Peynir)</td>\n",
       "      <td>0.501587</td>\n",
       "      <td>0.501587</td>\n",
       "      <td>0.304762</td>\n",
       "      <td>0.607595</td>\n",
       "      <td>1.211344</td>\n",
       "      <td>0.053172</td>\n",
       "      <td>1.270148</td>\n",
       "      <td>0.350053</td>\n",
       "    </tr>\n",
       "    <tr>\n",
       "      <th>2</th>\n",
       "      <td>(Peynir)</td>\n",
       "      <td>(Sut)</td>\n",
       "      <td>0.501587</td>\n",
       "      <td>0.501587</td>\n",
       "      <td>0.304762</td>\n",
       "      <td>0.607595</td>\n",
       "      <td>1.211344</td>\n",
       "      <td>0.053172</td>\n",
       "      <td>1.270148</td>\n",
       "      <td>0.350053</td>\n",
       "    </tr>\n",
       "    <tr>\n",
       "      <th>3</th>\n",
       "      <td>(Kiyma)</td>\n",
       "      <td>(Peynir)</td>\n",
       "      <td>0.476190</td>\n",
       "      <td>0.501587</td>\n",
       "      <td>0.323810</td>\n",
       "      <td>0.680000</td>\n",
       "      <td>1.355696</td>\n",
       "      <td>0.084958</td>\n",
       "      <td>1.557540</td>\n",
       "      <td>0.500891</td>\n",
       "    </tr>\n",
       "    <tr>\n",
       "      <th>4</th>\n",
       "      <td>(Peynir)</td>\n",
       "      <td>(Kiyma)</td>\n",
       "      <td>0.501587</td>\n",
       "      <td>0.476190</td>\n",
       "      <td>0.323810</td>\n",
       "      <td>0.645570</td>\n",
       "      <td>1.355696</td>\n",
       "      <td>0.084958</td>\n",
       "      <td>1.477891</td>\n",
       "      <td>0.526414</td>\n",
       "    </tr>\n",
       "    <tr>\n",
       "      <th>5</th>\n",
       "      <td>(Yumurta)</td>\n",
       "      <td>(Kiyma)</td>\n",
       "      <td>0.438095</td>\n",
       "      <td>0.476190</td>\n",
       "      <td>0.266667</td>\n",
       "      <td>0.608696</td>\n",
       "      <td>1.278261</td>\n",
       "      <td>0.058050</td>\n",
       "      <td>1.338624</td>\n",
       "      <td>0.387409</td>\n",
       "    </tr>\n",
       "    <tr>\n",
       "      <th>6</th>\n",
       "      <td>(Kola)</td>\n",
       "      <td>(Peynir)</td>\n",
       "      <td>0.438095</td>\n",
       "      <td>0.501587</td>\n",
       "      <td>0.269841</td>\n",
       "      <td>0.615942</td>\n",
       "      <td>1.227986</td>\n",
       "      <td>0.050098</td>\n",
       "      <td>1.297754</td>\n",
       "      <td>0.330409</td>\n",
       "    </tr>\n",
       "    <tr>\n",
       "      <th>7</th>\n",
       "      <td>(Yumurta)</td>\n",
       "      <td>(Peynir)</td>\n",
       "      <td>0.438095</td>\n",
       "      <td>0.501587</td>\n",
       "      <td>0.298413</td>\n",
       "      <td>0.681159</td>\n",
       "      <td>1.358008</td>\n",
       "      <td>0.078670</td>\n",
       "      <td>1.563203</td>\n",
       "      <td>0.469167</td>\n",
       "    </tr>\n",
       "    <tr>\n",
       "      <th>8</th>\n",
       "      <td>(Sut, Kiyma)</td>\n",
       "      <td>(Peynir)</td>\n",
       "      <td>0.244444</td>\n",
       "      <td>0.501587</td>\n",
       "      <td>0.203175</td>\n",
       "      <td>0.831169</td>\n",
       "      <td>1.657077</td>\n",
       "      <td>0.080564</td>\n",
       "      <td>2.952137</td>\n",
       "      <td>0.524816</td>\n",
       "    </tr>\n",
       "    <tr>\n",
       "      <th>9</th>\n",
       "      <td>(Sut, Peynir)</td>\n",
       "      <td>(Kiyma)</td>\n",
       "      <td>0.304762</td>\n",
       "      <td>0.476190</td>\n",
       "      <td>0.203175</td>\n",
       "      <td>0.666667</td>\n",
       "      <td>1.400000</td>\n",
       "      <td>0.058050</td>\n",
       "      <td>1.571429</td>\n",
       "      <td>0.410959</td>\n",
       "    </tr>\n",
       "    <tr>\n",
       "      <th>10</th>\n",
       "      <td>(Kiyma, Peynir)</td>\n",
       "      <td>(Sut)</td>\n",
       "      <td>0.323810</td>\n",
       "      <td>0.501587</td>\n",
       "      <td>0.203175</td>\n",
       "      <td>0.627451</td>\n",
       "      <td>1.250931</td>\n",
       "      <td>0.040756</td>\n",
       "      <td>1.337845</td>\n",
       "      <td>0.296655</td>\n",
       "    </tr>\n",
       "    <tr>\n",
       "      <th>11</th>\n",
       "      <td>(Yumurta, Kiyma)</td>\n",
       "      <td>(Peynir)</td>\n",
       "      <td>0.266667</td>\n",
       "      <td>0.501587</td>\n",
       "      <td>0.215873</td>\n",
       "      <td>0.809524</td>\n",
       "      <td>1.613924</td>\n",
       "      <td>0.082116</td>\n",
       "      <td>2.616667</td>\n",
       "      <td>0.518717</td>\n",
       "    </tr>\n",
       "    <tr>\n",
       "      <th>12</th>\n",
       "      <td>(Yumurta, Peynir)</td>\n",
       "      <td>(Kiyma)</td>\n",
       "      <td>0.298413</td>\n",
       "      <td>0.476190</td>\n",
       "      <td>0.215873</td>\n",
       "      <td>0.723404</td>\n",
       "      <td>1.519149</td>\n",
       "      <td>0.073772</td>\n",
       "      <td>1.893773</td>\n",
       "      <td>0.487091</td>\n",
       "    </tr>\n",
       "    <tr>\n",
       "      <th>13</th>\n",
       "      <td>(Kiyma, Peynir)</td>\n",
       "      <td>(Yumurta)</td>\n",
       "      <td>0.323810</td>\n",
       "      <td>0.438095</td>\n",
       "      <td>0.215873</td>\n",
       "      <td>0.666667</td>\n",
       "      <td>1.521739</td>\n",
       "      <td>0.074014</td>\n",
       "      <td>1.685714</td>\n",
       "      <td>0.507042</td>\n",
       "    </tr>\n",
       "  </tbody>\n",
       "</table>\n",
       "</div>"
      ],
      "text/plain": [
       "          antecedents consequents  antecedent support  consequent support  \\\n",
       "0           (Makarna)     (Ekmek)            0.425397            0.504762   \n",
       "1               (Sut)    (Peynir)            0.501587            0.501587   \n",
       "2            (Peynir)       (Sut)            0.501587            0.501587   \n",
       "3             (Kiyma)    (Peynir)            0.476190            0.501587   \n",
       "4            (Peynir)     (Kiyma)            0.501587            0.476190   \n",
       "5           (Yumurta)     (Kiyma)            0.438095            0.476190   \n",
       "6              (Kola)    (Peynir)            0.438095            0.501587   \n",
       "7           (Yumurta)    (Peynir)            0.438095            0.501587   \n",
       "8        (Sut, Kiyma)    (Peynir)            0.244444            0.501587   \n",
       "9       (Sut, Peynir)     (Kiyma)            0.304762            0.476190   \n",
       "10    (Kiyma, Peynir)       (Sut)            0.323810            0.501587   \n",
       "11   (Yumurta, Kiyma)    (Peynir)            0.266667            0.501587   \n",
       "12  (Yumurta, Peynir)     (Kiyma)            0.298413            0.476190   \n",
       "13    (Kiyma, Peynir)   (Yumurta)            0.323810            0.438095   \n",
       "\n",
       "     support  confidence      lift  leverage  conviction  zhangs_metric  \n",
       "0   0.279365    0.656716  1.301042  0.064641    1.442650       0.402687  \n",
       "1   0.304762    0.607595  1.211344  0.053172    1.270148       0.350053  \n",
       "2   0.304762    0.607595  1.211344  0.053172    1.270148       0.350053  \n",
       "3   0.323810    0.680000  1.355696  0.084958    1.557540       0.500891  \n",
       "4   0.323810    0.645570  1.355696  0.084958    1.477891       0.526414  \n",
       "5   0.266667    0.608696  1.278261  0.058050    1.338624       0.387409  \n",
       "6   0.269841    0.615942  1.227986  0.050098    1.297754       0.330409  \n",
       "7   0.298413    0.681159  1.358008  0.078670    1.563203       0.469167  \n",
       "8   0.203175    0.831169  1.657077  0.080564    2.952137       0.524816  \n",
       "9   0.203175    0.666667  1.400000  0.058050    1.571429       0.410959  \n",
       "10  0.203175    0.627451  1.250931  0.040756    1.337845       0.296655  \n",
       "11  0.215873    0.809524  1.613924  0.082116    2.616667       0.518717  \n",
       "12  0.215873    0.723404  1.519149  0.073772    1.893773       0.487091  \n",
       "13  0.215873    0.666667  1.521739  0.074014    1.685714       0.507042  "
      ]
     },
     "execution_count": 47,
     "metadata": {},
     "output_type": "execute_result"
    }
   ],
   "source": [
    "solve"
   ]
  },
  {
   "cell_type": "code",
   "execution_count": 48,
   "id": "aca01695",
   "metadata": {},
   "outputs": [
    {
     "data": {
      "text/plain": [
       "<Axes: >"
      ]
     },
     "execution_count": 48,
     "metadata": {},
     "output_type": "execute_result"
    },
    {
     "data": {
      "image/png": "[encoded data removed]",
      "text/plain": [
       "<Figure size 640x480 with 1 Axes>"
      ]
     },
     "metadata": {},
     "output_type": "display_data"
    }
   ],
   "source": [
    "solve[\"confidence\"].plot.box()"
   ]
  },
  {
   "cell_type": "code",
   "execution_count": 49,
   "id": "61841071",
   "metadata": {},
   "outputs": [
    {
     "data": {
      "text/html": [
       "<div>\n",
       "<style scoped>\n",
       "    .dataframe tbody tr th:only-of-type {\n",
       "        vertical-align: middle;\n",
       "    }\n",
       "\n",
       "    .dataframe tbody tr th {\n",
       "        vertical-align: top;\n",
       "    }\n",
       "\n",
       "    .dataframe thead th {\n",
       "        text-align: right;\n",
       "    }\n",
       "</style>\n",
       "<table border=\"1\" class=\"dataframe\">\n",
       "  <thead>\n",
       "    <tr style=\"text-align: right;\">\n",
       "      <th></th>\n",
       "      <th>antecedents</th>\n",
       "      <th>consequents</th>\n",
       "      <th>antecedent support</th>\n",
       "      <th>consequent support</th>\n",
       "      <th>support</th>\n",
       "      <th>confidence</th>\n",
       "      <th>lift</th>\n",
       "      <th>leverage</th>\n",
       "      <th>conviction</th>\n",
       "      <th>zhangs_metric</th>\n",
       "    </tr>\n",
       "  </thead>\n",
       "  <tbody>\n",
       "    <tr>\n",
       "      <th>8</th>\n",
       "      <td>(Sut, Kiyma)</td>\n",
       "      <td>(Peynir)</td>\n",
       "      <td>0.244444</td>\n",
       "      <td>0.501587</td>\n",
       "      <td>0.203175</td>\n",
       "      <td>0.831169</td>\n",
       "      <td>1.657077</td>\n",
       "      <td>0.080564</td>\n",
       "      <td>2.952137</td>\n",
       "      <td>0.524816</td>\n",
       "    </tr>\n",
       "    <tr>\n",
       "      <th>11</th>\n",
       "      <td>(Yumurta, Kiyma)</td>\n",
       "      <td>(Peynir)</td>\n",
       "      <td>0.266667</td>\n",
       "      <td>0.501587</td>\n",
       "      <td>0.215873</td>\n",
       "      <td>0.809524</td>\n",
       "      <td>1.613924</td>\n",
       "      <td>0.082116</td>\n",
       "      <td>2.616667</td>\n",
       "      <td>0.518717</td>\n",
       "    </tr>\n",
       "  </tbody>\n",
       "</table>\n",
       "</div>"
      ],
      "text/plain": [
       "         antecedents consequents  antecedent support  consequent support  \\\n",
       "8       (Sut, Kiyma)    (Peynir)            0.244444            0.501587   \n",
       "11  (Yumurta, Kiyma)    (Peynir)            0.266667            0.501587   \n",
       "\n",
       "     support  confidence      lift  leverage  conviction  zhangs_metric  \n",
       "8   0.203175    0.831169  1.657077  0.080564    2.952137       0.524816  \n",
       "11  0.215873    0.809524  1.613924  0.082116    2.616667       0.518717  "
      ]
     },
     "execution_count": 49,
     "metadata": {},
     "output_type": "execute_result"
    }
   ],
   "source": [
    "solve[solve[\"confidence\"]>0.8]"
   ]
  },
  {
   "cell_type": "code",
   "execution_count": 50,
   "id": "24b8c8f2",
   "metadata": {
    "scrolled": true
   },
   "outputs": [
    {
     "data": {
      "text/html": [
       "<div>\n",
       "<style scoped>\n",
       "    .dataframe tbody tr th:only-of-type {\n",
       "        vertical-align: middle;\n",
       "    }\n",
       "\n",
       "    .dataframe tbody tr th {\n",
       "        vertical-align: top;\n",
       "    }\n",
       "\n",
       "    .dataframe thead th {\n",
       "        text-align: right;\n",
       "    }\n",
       "</style>\n",
       "<table border=\"1\" class=\"dataframe\">\n",
       "  <thead>\n",
       "    <tr style=\"text-align: right;\">\n",
       "      <th></th>\n",
       "      <th>antecedents</th>\n",
       "      <th>consequents</th>\n",
       "      <th>antecedent support</th>\n",
       "      <th>consequent support</th>\n",
       "      <th>support</th>\n",
       "      <th>confidence</th>\n",
       "      <th>lift</th>\n",
       "      <th>leverage</th>\n",
       "      <th>conviction</th>\n",
       "      <th>zhangs_metric</th>\n",
       "    </tr>\n",
       "  </thead>\n",
       "  <tbody>\n",
       "    <tr>\n",
       "      <th>1</th>\n",
       "      <td>(Sut)</td>\n",
       "      <td>(Peynir)</td>\n",
       "      <td>0.501587</td>\n",
       "      <td>0.501587</td>\n",
       "      <td>0.304762</td>\n",
       "      <td>0.607595</td>\n",
       "      <td>1.211344</td>\n",
       "      <td>0.053172</td>\n",
       "      <td>1.270148</td>\n",
       "      <td>0.350053</td>\n",
       "    </tr>\n",
       "    <tr>\n",
       "      <th>2</th>\n",
       "      <td>(Peynir)</td>\n",
       "      <td>(Sut)</td>\n",
       "      <td>0.501587</td>\n",
       "      <td>0.501587</td>\n",
       "      <td>0.304762</td>\n",
       "      <td>0.607595</td>\n",
       "      <td>1.211344</td>\n",
       "      <td>0.053172</td>\n",
       "      <td>1.270148</td>\n",
       "      <td>0.350053</td>\n",
       "    </tr>\n",
       "    <tr>\n",
       "      <th>3</th>\n",
       "      <td>(Kiyma)</td>\n",
       "      <td>(Peynir)</td>\n",
       "      <td>0.476190</td>\n",
       "      <td>0.501587</td>\n",
       "      <td>0.323810</td>\n",
       "      <td>0.680000</td>\n",
       "      <td>1.355696</td>\n",
       "      <td>0.084958</td>\n",
       "      <td>1.557540</td>\n",
       "      <td>0.500891</td>\n",
       "    </tr>\n",
       "    <tr>\n",
       "      <th>4</th>\n",
       "      <td>(Peynir)</td>\n",
       "      <td>(Kiyma)</td>\n",
       "      <td>0.501587</td>\n",
       "      <td>0.476190</td>\n",
       "      <td>0.323810</td>\n",
       "      <td>0.645570</td>\n",
       "      <td>1.355696</td>\n",
       "      <td>0.084958</td>\n",
       "      <td>1.477891</td>\n",
       "      <td>0.526414</td>\n",
       "    </tr>\n",
       "  </tbody>\n",
       "</table>\n",
       "</div>"
      ],
      "text/plain": [
       "  antecedents consequents  antecedent support  consequent support   support  \\\n",
       "1       (Sut)    (Peynir)            0.501587            0.501587  0.304762   \n",
       "2    (Peynir)       (Sut)            0.501587            0.501587  0.304762   \n",
       "3     (Kiyma)    (Peynir)            0.476190            0.501587  0.323810   \n",
       "4    (Peynir)     (Kiyma)            0.501587            0.476190  0.323810   \n",
       "\n",
       "   confidence      lift  leverage  conviction  zhangs_metric  \n",
       "1    0.607595  1.211344  0.053172    1.270148       0.350053  \n",
       "2    0.607595  1.211344  0.053172    1.270148       0.350053  \n",
       "3    0.680000  1.355696  0.084958    1.557540       0.500891  \n",
       "4    0.645570  1.355696  0.084958    1.477891       0.526414  "
      ]
     },
     "execution_count": 50,
     "metadata": {},
     "output_type": "execute_result"
    }
   ],
   "source": [
    "solve[(solve[\"confidence\"]>0.6) & (solve[\"support\"]>0.3)]\n"
   ]
  }
 ],
 "metadata": {
  "kernelspec": {
   "display_name": "Python 3 (ipykernel)",
   "language": "python",
   "name": "python3"
  },
  "language_info": {
   "codemirror_mode": {
    "name": "ipython",
    "version": 3
   },
   "file_extension": ".py",
   "mimetype": "text/x-python",
   "name": "python",
   "nbconvert_exporter": "python",
   "pygments_lexer": "ipython3",
   "version": "3.12.1"
  }
 },
 "nbformat": 4,
 "nbformat_minor": 5
}
